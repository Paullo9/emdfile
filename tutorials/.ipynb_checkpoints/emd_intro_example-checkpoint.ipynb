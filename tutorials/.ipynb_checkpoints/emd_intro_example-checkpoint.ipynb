{
 "cells": [
  {
   "cell_type": "markdown",
   "id": "b356b27a",
   "metadata": {},
   "source": [
    "<a id='frontmatter'></a>\n",
    "\n",
    "# Welcome to `emd`!\n",
    "\n",
    "\n",
    "<hr style=\"border:2px solid gray\">\n",
    "\n",
    "\n",
    "## Contents \n",
    "\n",
    "- [Front matter](#frontmatter)\n",
    "    - [A short story](#narrative)[*]: or, the origins of `emd`, narratively\n",
    "    - [Note to py4DSTEM developers](#devteam)[*]: an appreciation, an apology, and an intention\n",
    "    - [The Example](#example): spoiler alert - it's gaussians\n",
    "\n",
    "- [Code](#code)\n",
    "    - [DataGenerator](#datagenerator): Generate data\n",
    "    - [1st pass](#1stpass): initial attempt at data analysis\n",
    "    - [Workflow --> Python class](#class): bundling the analysis workflow into a class definition\n",
    "    - [Save and load](#io): use `emd` to write and read the workflow\n",
    "    - [Many datasets](#manydatasets): analyze, write, and read many datasets\n",
    "\n",
    "\n",
    "[*] may be skipped without loss of continuity\n",
    "\n",
    "<hr style=\"border:2px solid gray\">"
   ]
  },
  {
   "cell_type": "markdown",
   "id": "0bf7e04d",
   "metadata": {},
   "source": [
    " <a id='narrative'></a>\n",
    " \n",
    "## A short story\n",
    "\n",
    "When I was a grad student I went through the following process a number of times.  First, I'd run some experiment and get a bunch of data.  I'd look through that data for a while, and eventually pick one or two good datasets to start the analysis.  Then I'd fire up a Python environment and do some initial analysis, probably making some plots to try to visualize and understand what was happening.\n",
    "\n",
    "\n",
    "Once I had some analysis code that I felt quantified whatever I was trying to look at in some reasonable way, and perhaps had tested it on a few datasets, I'd modify it to run on all the datasets I had on hand, which might be 10 or 20 or 100 or 200.  This is where I'd run into my archnemesis, the i/o problem.  And by the i/o problem I mean this glorious, horrible, ridiculously trivial task: save a file, then read the file.\n",
    "\n",
    "\n",
    "I/O is weird.  It seems to me like its one of these things that tons of folks.....myself *definitely* included..............just...want....to....WORK.  We don't want to deal with it.  It's not important in-and-of-itself - it's just the bookkeeping we need to do to actually *get* to the important stuff.  And every time I've confronted the i/o problem I've made battle, for some period of time, with [this classic conundrum](https://xkcd.com/1205/).  Inevitably, I've ended up spending....say, N hours trying to devise a general - and by general I mean re-usable - solution, before giving up and spending M hours doing it however was quickest and easiest for that case.  M was very typically rather less than N in the end.  The duration of M would vary by case - different experiments, datasets, and analyses leading to different data artifacts, as they will.  For 10 or 20 source datasets, even for complex workflows, a manual approach is often perfectly sufficient.  For 100 datasets, and certainly for 1000, I would typically cobble together some simple write/read code for the use case at hand and move on.\n",
    "\n",
    "\n",
    "The thing that's interesting to me about all those N hours.......the $\\sum N$ hours.......is that whether or not they were wasted time remains an undecided variable of the universe.  Now, if you're thinking \"wasted time\" is a matter of perspective and opinion, among other flavors of subjective - that's true, fair enough - and, for some reasonable definitions of terms, ya, that time....*might* have been wasted.  But - it also may not have been!  Because the questions remains: (a) will such a more general system yet emerge from all that effort? and (2) how much use and saved time will I, and perhaps even others, get out of such a system in the future.  So the answer to Mr. Monroes question -- *is it worth the time* -- will depend on the answers to these former two questions.\n",
    "\n",
    "\n",
    "Well, I don't know about (b) yet, but the answer to (a) is: it's done!  For now anyway... ;p\n",
    "\n",
    "\n",
    "It's called `emd`, and it's a python package defining read/write functions and a set of classes which interface between long term storage (in the form of HDF5 files) and some Python runtime objects.  These objects can either be used as-is to store and retrieve data and metadata, or subclassed to make your own objects, with your own analysis methods, with the added benefit that they'll already know how to quickly and easily write your whole analysis pipeline to file when you're done.  The EMD 1.0 file specification, and the `emd` writer/readers, support any number of data trees in a single file, so you can write and read results of some analysis on 100 different experiments or 1000 different simulation runs to one file, come back to it later, or share it with anyone else in the world who can read it with a call of `pip install emd` in the command line and `emd.read(your_file)` from a Python interpreter."
   ]
  },
  {
   "cell_type": "markdown",
   "id": "e5434fdd",
   "metadata": {},
   "source": [
    " <a id='narrative'></a>\n",
    "\n",
    "## A note to the py4dstem dev team\n",
    "\n",
    "\n",
    "\n",
    "It's been a bit of a slog and I owe a debt of gratitude to everyone who's tolerated how perilously long N has become, as well as an apology to everyone who's had to sit through the ordeal of Colin trying to kindly cojole me into letting M be good enough alone.  Colin, many thanks to you in particular for your patience and suport.\n",
    "\n",
    "\n",
    "I didn't really mean to make this package.  Truly, I just felt like i/o for py4DSTEM was my chance to finally, finally defeat the bugbear of i/o as I've described it above, and, in hunting the great white whale, got a little lost at sea.  (If you peered into the lovecraftian, non-euclidean, non-abelian horror of convolution (geddit?) that was the py4DSTEM io module over the last N years, you know of what I speak).  In trying to clean up the mess, `emd` seemed the sensible way out and forward.\n",
    "\n",
    "\n",
    "So here we are - I hope the finished product is worth it.  I intend to use this package in the future - I think it will be quite useful - and py4DSTEM will, as I believe I may have mentioned, be built on top of it, so even if you don't want to use it for future projects yourself, perhaps you may end up finding it of some interest.  If you do, I hope these docs - this notebook, the companion walkthrough.ipynb, and the sample custom class building module - are at your disposal.  I am of course happy to discuss anything herein or `emd` related, should thoughts arise.\n",
    "\n",
    "\n",
    "That said - maybe the best thing I can say about completing the `emd`/`py4dstem` separation is that once this is done - and after a hopefully short period of adding io support for the workflows - we can by and large stop talking about i/o.  It is, after all, something meant to support the stuff that actually matters.  \n",
    "\n",
    "\n",
    "To that end, I'm planning not to really talk about `emd` in `py4dstem` meetings in the future, at least to the extent that it's avoidable.  It's basically done now, and that's that.  I don't know if anyone would admit it, but suspect that perhaps some of you would agree with my assessment of the last couple of py4DSTEM dev meetings: to be blunt - unmitigated disasters.  Ok, sure, maybe this is strong language.  But: they have not been good meetings.  I know what good meetings look and feel like, and I know bad ones -- indeed, i am possessed of that deep, abiding, furious distaste for pointless meeting that didn't need to happen that perhaps some of you also know of -- making it just endlessly ironic to me that I find myself now running and biweekly standing meeting that has occassioned into pointless land.\n",
    "\n",
    "\n",
    "So what's the point?  This: `emd` is banished from `py4dstem`!  Ergo, `py4dstem` meetings will henceforce be for `py4dstem`.  Scope thusly defined, may our meetings now be a little more focused.  QED.\n",
    "\n",
    "\n",
    "Woot!\n"
   ]
  },
  {
   "cell_type": "markdown",
   "id": "4abd45d6",
   "metadata": {},
   "source": [
    "<a id='example'></a>\n",
    "\n",
    "\n",
    "## The Example\n",
    "\n",
    "A common trajectory in analyzing data is\n",
    "\n",
    "1. an initial pass at analyzing a datasets\n",
    "2. bundling code from (1) so that it can be run on many datasets\n",
    "3. saving the results, and reading them again later\n",
    "\n",
    "In the example below, we'll generate some data and then do step (1) in the form of some simple analysis in a few Jupyter cells.  For step 2 we'll wrap the code from the previous step into a class.  For step 3, we'll add a few lines of code from the `emd` package to the end of our class, enabling write/read in and out of an HDF5 file.  We'll wrap up by running our analysis class on many datasets, save all the results to an H5 file, then load it again and plot some results."
   ]
  },
  {
   "cell_type": "markdown",
   "id": "d34bf6d3",
   "metadata": {},
   "source": [
    "<a id='code'></a>\n",
    "<hr style=\"border:2px solid gray\">\n",
    "\n",
    "# Code\n",
    "\n"
   ]
  },
  {
   "cell_type": "code",
   "execution_count": 1,
   "id": "7f9a7b9d",
   "metadata": {},
   "outputs": [],
   "source": [
    "%load_ext autoreload\n",
    "%autoreload 2"
   ]
  },
  {
   "cell_type": "markdown",
   "id": "ddf67137",
   "metadata": {},
   "source": [
    " <a id='generatedata'></a>\n",
    "\n",
    "## Generate Data"
   ]
  },
  {
   "cell_type": "code",
   "execution_count": 1,
   "id": "02ada5aa",
   "metadata": {},
   "outputs": [
    {
     "ename": "ModuleNotFoundError",
     "evalue": "No module named 'scipy'",
     "output_type": "error",
     "traceback": [
      "\u001b[0;31m---------------------------------------------------------------------------\u001b[0m",
      "\u001b[0;31mModuleNotFoundError\u001b[0m                       Traceback (most recent call last)",
      "Cell \u001b[0;32mIn[1], line 12\u001b[0m\n\u001b[1;32m      9\u001b[0m shape \u001b[38;5;241m=\u001b[39m (\u001b[38;5;241m256\u001b[39m,\u001b[38;5;241m256\u001b[39m,\u001b[38;5;241m8\u001b[39m)\n\u001b[1;32m     11\u001b[0m \u001b[38;5;28;01mimport\u001b[39;00m \u001b[38;5;21;01mnumpy\u001b[39;00m \u001b[38;5;28;01mas\u001b[39;00m \u001b[38;5;21;01mnp\u001b[39;00m\n\u001b[0;32m---> 12\u001b[0m \u001b[38;5;28;01mfrom\u001b[39;00m \u001b[38;5;21;01mscipy\u001b[39;00m\u001b[38;5;21;01m.\u001b[39;00m\u001b[38;5;21;01mstats\u001b[39;00m \u001b[38;5;28;01mimport\u001b[39;00m poisson\n\u001b[1;32m     15\u001b[0m \u001b[38;5;28;01mclass\u001b[39;00m \u001b[38;5;21;01mDataGenerator\u001b[39;00m:\n\u001b[1;32m     17\u001b[0m     params \u001b[38;5;241m=\u001b[39m {\u001b[38;5;124m'\u001b[39m\u001b[38;5;124mA\u001b[39m\u001b[38;5;124m'\u001b[39m:\u001b[38;5;241m5\u001b[39m, \u001b[38;5;124m'\u001b[39m\u001b[38;5;124msigx\u001b[39m\u001b[38;5;124m'\u001b[39m:\u001b[38;5;241m12\u001b[39m, \u001b[38;5;124m'\u001b[39m\u001b[38;5;124msigy\u001b[39m\u001b[38;5;124m'\u001b[39m:\u001b[38;5;241m9\u001b[39m}  \u001b[38;5;66;03m# 2D gaussian params\u001b[39;00m\n",
      "\u001b[0;31mModuleNotFoundError\u001b[0m: No module named 'scipy'"
     ]
    }
   ],
   "source": [
    "# Generate data\n",
    "\n",
    "\n",
    "# This cell defines a class that makes datasets\n",
    "# our data will 3D stacks consisting of 8 frames of 256x256 images which\n",
    "# contain some gaussian blob moving at a constant trajectory between frames\n",
    "\n",
    "\n",
    "shape = (256,256,8)\n",
    "\n",
    "import numpy as np\n",
    "from scipy.stats import poisson\n",
    "\n",
    "\n",
    "class DataGenerator:\n",
    "    \n",
    "    params = {'A':5, 'sigx':12, 'sigy':9}  # 2D gaussian params\n",
    "    mu_scale = 1                           # scaling for Poisson draws\n",
    "    \n",
    "    def __init__(self, xy0, v0):\n",
    "        \"\"\" 2-tuples xy0 and v0\n",
    "        \"\"\"\n",
    "        \n",
    "        # set the initial position and velocity\n",
    "        self.xy0 = np.array(xy0)\n",
    "        self.v0 = np.array(v0)\n",
    "\n",
    "        # find the center at each time point\n",
    "        self.xy = self.xy0[:,np.newaxis] + \\\n",
    "            np.tile(np.arange(8),(2,1))*self.v0[:,np.newaxis]\n",
    "        \n",
    "        # make the data\n",
    "        self.generate_data()\n",
    "\n",
    "\n",
    "    def generate_data(self):\n",
    "        \n",
    "        # make a meshgrid\n",
    "        yy,xx = np.meshgrid(np.arange(shape[1]),np.arange(shape[0]))\n",
    "        self.xx,self.yy = xx-shape[0]/2., yy - shape[1]/2.\n",
    "        \n",
    "        # extend in the third dimension and center\n",
    "        self.xx = np.dstack([ self.xx[:,:,np.newaxis] - x for x in self.xy[0,:] ])\n",
    "        self.yy = np.dstack([ self.yy[:,:,np.newaxis] - y for y in self.xy[1,:] ])\n",
    "        \n",
    "        # get the data\n",
    "        \n",
    "        #print(DataGenerator.params)\n",
    "        \n",
    "        self.data = poisson.rvs(\n",
    "            self.gaussian((self.xx,self.yy), **(DataGenerator.params)) * DataGenerator.mu_scale\n",
    "        )\n",
    "    \n",
    "    @staticmethod\n",
    "    def gaussian(p,A,sigx,sigy):\n",
    "        return A * np.exp(-(0.5*(p[0]/sigx)**2)) * np.exp(-(0.5*(p[1]/sigy)**2))\n",
    "\n",
    "\n",
    "    \n",
    "# generate some data\n",
    "xy0 = (-17,-9)\n",
    "v0 = (6,8)\n",
    "data_generator = DataGenerator(xy0, v0)"
   ]
  },
  {
   "cell_type": "markdown",
   "id": "de71e72a",
   "metadata": {},
   "source": [
    " <a id='1stpass'></a>\n",
    "\n",
    "## Analysis - first pass"
   ]
  },
  {
   "cell_type": "code",
   "execution_count": 3,
   "id": "21dc5e06",
   "metadata": {},
   "outputs": [
    {
     "data": {
      "image/png": "[encoded data removed]",
      "text/plain": [
       "<Figure size 1728x432 with 4 Axes>"
      ]
     },
     "metadata": {
      "needs_background": "light"
     },
     "output_type": "display_data"
    },
    {
     "data": {
      "image/png": "[encoded data removed]",
      "text/plain": [
       "<Figure size 1728x432 with 4 Axes>"
      ]
     },
     "metadata": {
      "needs_background": "light"
     },
     "output_type": "display_data"
    }
   ],
   "source": [
    "# visualize the data\n",
    "\n",
    "\n",
    "# we use py4DSTEM.visualize to show a few plots - otherwise,\n",
    "# py4DSTEM is not used in any way outside of the `emd` module\n",
    "\n",
    "from py4DSTEM.visualize import show\n",
    "\n",
    "\n",
    "show([data_generator.data[:,:,idx] for idx in [0,1,2,3]])\n",
    "show([data_generator.data[:,:,idx] for idx in [4,5,6,7]])"
   ]
  },
  {
   "cell_type": "code",
   "execution_count": 4,
   "id": "9153e84a",
   "metadata": {},
   "outputs": [
    {
     "data": {
      "image/png": "[encoded data removed]",
      "text/plain": [
       "<Figure size 576x576 with 1 Axes>"
      ]
     },
     "metadata": {
      "needs_background": "light"
     },
     "output_type": "display_data"
    }
   ],
   "source": [
    "# The mean\n",
    "\n",
    "show(np.mean(data_generator.data,axis=2))"
   ]
  },
  {
   "cell_type": "code",
   "execution_count": 5,
   "id": "4cc2f43f",
   "metadata": {},
   "outputs": [
    {
     "data": {
      "image/png": "[encoded data removed]",
      "text/plain": [
       "<Figure size 576x576 with 1 Axes>"
      ]
     },
     "metadata": {
      "needs_background": "light"
     },
     "output_type": "display_data"
    }
   ],
   "source": [
    "# The max\n",
    "\n",
    "show(np.max(data_generator.data,axis=2))"
   ]
  },
  {
   "cell_type": "code",
   "execution_count": 6,
   "id": "2d88dd47",
   "metadata": {},
   "outputs": [
    {
     "data": {
      "image/png": "[encoded data removed]",
      "text/plain": [
       "<Figure size 576x576 with 1 Axes>"
      ]
     },
     "metadata": {
      "needs_background": "light"
     },
     "output_type": "display_data"
    }
   ],
   "source": [
    "# The std\n",
    "\n",
    "show(np.std(data_generator.data,axis=2))"
   ]
  },
  {
   "cell_type": "code",
   "execution_count": 7,
   "id": "7880d02e",
   "metadata": {},
   "outputs": [
    {
     "data": {
      "text/plain": [
       "(111.05126658624849, 119.17370325693607)"
      ]
     },
     "execution_count": 7,
     "metadata": {},
     "output_type": "execute_result"
    }
   ],
   "source": [
    "# The CoM\n",
    "\n",
    "def get_com(im):\n",
    "    tot = np.sum(im)\n",
    "    yy,xx = np.meshgrid(np.arange(shape[1]),np.arange(shape[0]))\n",
    "    return (np.sum(xx*im)/tot, np.sum(yy*im)/tot)\n",
    "\n",
    "com = get_com(data_generator.data[:,:,0])\n",
    "com"
   ]
  },
  {
   "cell_type": "code",
   "execution_count": 8,
   "id": "16a2ed36",
   "metadata": {},
   "outputs": [
    {
     "data": {
      "image/png": "[encoded data removed]",
      "text/plain": [
       "<Figure size 576x576 with 1 Axes>"
      ]
     },
     "metadata": {
      "needs_background": "light"
     },
     "output_type": "display_data"
    }
   ],
   "source": [
    "# Show overlay\n",
    "\n",
    "show(data_generator.data[:,:,0],points={'x':com[0],'y':com[1]})"
   ]
  },
  {
   "cell_type": "code",
   "execution_count": 9,
   "id": "774040bb",
   "metadata": {},
   "outputs": [
    {
     "data": {
      "image/png": "[encoded data removed]",
      "text/plain": [
       "<Figure size 1728x864 with 8 Axes>"
      ]
     },
     "metadata": {
      "needs_background": "light"
     },
     "output_type": "display_data"
    }
   ],
   "source": [
    "# get all coms and show\n",
    "\n",
    "coms = np.array([get_com(data_generator.data[:,:,i]) for i in range(shape[2])]).T\n",
    "\n",
    "from py4DSTEM.visualize import show_image_grid\n",
    "show_image_grid(\n",
    "    lambda i:data_generator.data[:,:,i],\n",
    "    H=2,W=4,\n",
    "    get_x = lambda i: coms[0,i],\n",
    "    get_y = lambda i: coms[1,i],\n",
    ")"
   ]
  },
  {
   "cell_type": "code",
   "execution_count": 10,
   "id": "b36b674f",
   "metadata": {},
   "outputs": [
    {
     "data": {
      "image/png": "[encoded data removed]",
      "text/plain": [
       "<Figure size 576x576 with 1 Axes>"
      ]
     },
     "metadata": {
      "needs_background": "light"
     },
     "output_type": "display_data"
    }
   ],
   "source": [
    "show(\n",
    "    np.max(data_generator.data,axis=2),\n",
    "    points={'x':coms[0,:],'y':coms[1,:]},\n",
    ")"
   ]
  },
  {
   "cell_type": "markdown",
   "id": "aa39ca12",
   "metadata": {},
   "source": [
    " <a id='class'></a>\n",
    "\n",
    "\n",
    "## Workflow --> Python class\n",
    "\n",
    "In this section, the analysis above is wrapped into a class which ingests a single dataset, and has methods to perform each of the steps above."
   ]
  },
  {
   "cell_type": "code",
   "execution_count": 32,
   "id": "b640c50b",
   "metadata": {},
   "outputs": [],
   "source": [
    "# Define the analysis class\n",
    "\n",
    "\n",
    "class CoolScienceWorkflow:\n",
    "    \"\"\"\n",
    "    Analysis for A Very Important Investigation into the Apparent Motion of Fuzzy Blobs\n",
    "    \"\"\"\n",
    "    \n",
    "    def __init__(self, name, data):\n",
    "        \"\"\"\n",
    "        \"\"\"\n",
    "        self.name = name\n",
    "        self.data = data\n",
    "\n",
    "        \n",
    "    # analysis methods\n",
    "        \n",
    "    def get_max(self):\n",
    "        self.max = np.max(self.data,axis=2)\n",
    "    def get_mean(self):\n",
    "        self.mean = np.mean(self.data,axis=2)\n",
    "    def get_std(self):\n",
    "        self.std = np.std(self.data,axis=2)\n",
    "    \n",
    "    @staticmethod\n",
    "    def get_com(im):\n",
    "        tot = np.sum(im)\n",
    "        yy,xx = np.meshgrid(np.arange(shape[1]),np.arange(shape[0]))\n",
    "        return (np.sum(xx*im)/tot, np.sum(yy*im)/tot)\n",
    "    \n",
    "    def get_coms(self):\n",
    "        self.coms = np.array([get_com(self.data[:,:,i]) for i in range(shape[2])]).T\n"
   ]
  },
  {
   "cell_type": "code",
   "execution_count": 33,
   "id": "e03991ff",
   "metadata": {},
   "outputs": [],
   "source": [
    "# Perform analysis\n",
    "\n",
    "\n",
    "# instantiate\n",
    "my_analysis = CoolScienceWorkflow(\n",
    "    name='1st_try',\n",
    "    data=data_generator.data\n",
    ")\n",
    "\n",
    "# analyze\n",
    "my_analysis.get_max()\n",
    "my_analysis.get_mean()\n",
    "my_analysis.get_std()\n",
    "my_analysis.get_coms()"
   ]
  },
  {
   "cell_type": "code",
   "execution_count": 13,
   "id": "799547ec",
   "metadata": {},
   "outputs": [
    {
     "data": {
      "image/png": "[encoded data removed]",
      "text/plain": [
       "<Figure size 576x576 with 1 Axes>"
      ]
     },
     "metadata": {
      "needs_background": "light"
     },
     "output_type": "display_data"
    }
   ],
   "source": [
    "# we won't show all the visualization - they're the same, with slightly modified syntax, e.g. -\n",
    "\n",
    "show(\n",
    "    my_analysis.data[:,:,0],\n",
    "    points={'x':my_analysis.coms[0,0],'y':my_analysis.coms[1,0]}\n",
    ")"
   ]
  },
  {
   "cell_type": "markdown",
   "id": "c2137f52",
   "metadata": {},
   "source": [
    "<a id='io'></a>\n",
    "\n",
    "## Save and load\n",
    "\n",
    "Here we extend the previous class with two methods - one which wraps the data in `emd` classes and links them, and one which saves to file.  Reading is then accomplished with `emd.read`."
   ]
  },
  {
   "cell_type": "code",
   "execution_count": 14,
   "id": "6fc93b7d",
   "metadata": {},
   "outputs": [],
   "source": [
    "# filepath handling utilities\n",
    "\n",
    "# note that `emd` by default errors when save is attempted to existing filepaths unless\n",
    "# overwrite or append mode is invoked. here, we'll just use a little clean() funtion to\n",
    "# remove files we're done with to keep things tidy :p\n",
    "\n",
    "\n",
    "filepath = \"/Users/Ben/Desktop/test.h5\"\n",
    "\n",
    "from os.path import exists\n",
    "from os import remove\n",
    "def clean():\n",
    "    if exists(filepath):\n",
    "        remove(filepath)"
   ]
  },
  {
   "cell_type": "code",
   "execution_count": 15,
   "id": "551dd44f",
   "metadata": {},
   "outputs": [],
   "source": [
    "# Extend analysis class to support i/o\n",
    "\n",
    "\n",
    "from py4DSTEM import emd     # `emd` at last!\n",
    "\n",
    "\n",
    "class ReadAndWritable_CoolScienceWorkflow:\n",
    "    \"\"\"\n",
    "    Analysis and io for A Very Important Experiment\n",
    "    \"\"\"\n",
    "    \n",
    "    def __init__(self, name, data):\n",
    "        \"\"\"\n",
    "        \"\"\"\n",
    "        self.name = name\n",
    "        self.data = data\n",
    "\n",
    "        \n",
    "    # analysis methods\n",
    "        \n",
    "    def get_max(self):\n",
    "        self.max = np.max(self.data,axis=2)\n",
    "    def get_mean(self):\n",
    "        self.mean = np.mean(self.data,axis=2)\n",
    "    def get_std(self):\n",
    "        self.std = np.std(self.data,axis=2)\n",
    "    \n",
    "    @staticmethod\n",
    "    def get_com(im):\n",
    "        tot = np.sum(im)\n",
    "        yy,xx = np.meshgrid(np.arange(shape[1]),np.arange(shape[0]))\n",
    "        return (np.sum(xx*im)/tot, np.sum(yy*im)/tot)\n",
    "    \n",
    "    def get_coms(self):\n",
    "        self.coms = np.array([get_com(self.data[:,:,i]) for i in range(shape[2])]).T\n",
    "\n",
    "\n",
    "    \n",
    "    # io methods\n",
    "    \n",
    "    def build_tree(self):\n",
    "        \"\"\" Here the data we want to keep gets wrapped into instances of the\n",
    "            simplest EMD class, `Array`, then linked together by placing them all\n",
    "            in an EMD tree. You can read more about trees in the package walkthrough.\n",
    "            Linking the data in a tree allows everything to be save together with\n",
    "            one call to `emd.save`\n",
    "        \"\"\"\n",
    "        \n",
    "        # make a new tree root\n",
    "        self.root = emd.Root( name=self.name )\n",
    "        \n",
    "        # wrap the derived data in emd classes\n",
    "        ar_max = emd.Array( name='max', data=self.max)\n",
    "        ar_mean = emd.Array( name='mean', data=self.mean)\n",
    "        ar_std = emd.Array( name='std', data=self.std)\n",
    "        ar_coms = emd.Array( name='coms', data=self.coms )\n",
    "        \n",
    "        # build the tree\n",
    "        self.root.tree( ar_max )\n",
    "        self.root.tree( ar_mean )\n",
    "        self.root.tree( ar_std )\n",
    "        self.root.tree( ar_coms )\n",
    "    \n",
    "    def save(self,fp):\n",
    "        \"\"\" Save the data. If the file path doesn't exist, makes a new file and saves.\n",
    "            If it does, appends the data to the existing file.\n",
    "        \"\"\"\n",
    "        self.build_tree()\n",
    "        if not exists(fp):\n",
    "            emd.save(fp, self.root)\n",
    "        else:\n",
    "            emd.save(fp, self.root, mode='a')"
   ]
  },
  {
   "cell_type": "code",
   "execution_count": 16,
   "id": "b9ce671a",
   "metadata": {},
   "outputs": [],
   "source": [
    "clean()"
   ]
  },
  {
   "cell_type": "code",
   "execution_count": 17,
   "id": "d0dac18f",
   "metadata": {},
   "outputs": [],
   "source": [
    "# Analyze the data\n",
    "\n",
    "\n",
    "# ((instantiate))\n",
    "my_analysis = ReadAndWritable_CoolScienceWorkflow(\n",
    "    name='1st_try',\n",
    "    data=data_generator.data\n",
    ")\n",
    "\n",
    "# ((analyze))\n",
    "my_analysis.get_max()\n",
    "my_analysis.get_mean()\n",
    "my_analysis.get_std()\n",
    "my_analysis.get_coms()\n",
    "\n",
    "\n",
    "# and save it\n",
    "my_analysis.save(filepath)"
   ]
  },
  {
   "cell_type": "code",
   "execution_count": 18,
   "id": "a4ed135e",
   "metadata": {},
   "outputs": [
    {
     "name": "stdout",
     "output_type": "stream",
     "text": [
      "/\n",
      "|--1st_try\n",
      "\t|--coms\n",
      "\t|--max\n",
      "\t|--mean\n",
      "\t|--std\n",
      "\n",
      "\n"
     ]
    }
   ],
   "source": [
    "# We can look at the contents of the file without loading anything\n",
    "\n",
    "emd.print_h5_tree(filepath)"
   ]
  },
  {
   "cell_type": "code",
   "execution_count": 19,
   "id": "69971e02",
   "metadata": {},
   "outputs": [],
   "source": [
    "# And we can load the data\n",
    "\n",
    "loaded_data = emd.read(filepath)"
   ]
  },
  {
   "cell_type": "code",
   "execution_count": 20,
   "id": "55ec8073",
   "metadata": {},
   "outputs": [],
   "source": [
    "# The data is accessible as\n",
    "\n",
    "ar_max = loaded_data.tree('max')\n",
    "ar_mean = loaded_data.tree('mean')\n",
    "ar_std = loaded_data.tree('std')\n",
    "ar_coms = loaded_data.tree('coms')"
   ]
  },
  {
   "cell_type": "code",
   "execution_count": 21,
   "id": "5d0309c0",
   "metadata": {},
   "outputs": [
    {
     "data": {
      "image/png": "[encoded data removed]",
      "text/plain": [
       "<Figure size 576x576 with 1 Axes>"
      ]
     },
     "metadata": {
      "needs_background": "light"
     },
     "output_type": "display_data"
    }
   ],
   "source": [
    "# And can be visualized as before\n",
    "\n",
    "show(\n",
    "    ar_max,\n",
    "    points={'x':ar_coms[0,:],'y':ar_coms[1,:]}\n",
    ")"
   ]
  },
  {
   "cell_type": "code",
   "execution_count": 22,
   "id": "a80d4078",
   "metadata": {},
   "outputs": [
    {
     "data": {
      "text/plain": [
       "Array( A 2-dimensional array of shape (256, 256) called 'mean',\n",
       "       with dimensions:\n",
       "\n",
       "       dim0 = [0,1,...] pixels\n",
       "       dim1 = [0,1,...] pixels\n",
       ")"
      ]
     },
     "execution_count": 22,
     "metadata": {},
     "output_type": "execute_result"
    }
   ],
   "source": [
    "# Notice that the data itself are no longer numpy ndarrays - they are emd Arrays.\n",
    "# Which is essentially a numpy array, but better...!\n",
    "\n",
    "ar_mean"
   ]
  },
  {
   "cell_type": "code",
   "execution_count": null,
   "id": "c50eb763",
   "metadata": {},
   "outputs": [],
   "source": []
  },
  {
   "cell_type": "markdown",
   "id": "f2155b02",
   "metadata": {},
   "source": [
    "<a id='manydatasets'></a>\n",
    "\n",
    "\n",
    "# Many datasets \n",
    "\n",
    "Here we generate 100 datasets, analyze them, save them to a single HDF5 file, then use the file to load info from all 100 datasets, which we plot together."
   ]
  },
  {
   "cell_type": "code",
   "execution_count": 23,
   "id": "1a8dea7b",
   "metadata": {},
   "outputs": [],
   "source": [
    "clean()"
   ]
  },
  {
   "cell_type": "code",
   "execution_count": 24,
   "id": "b41b002c",
   "metadata": {},
   "outputs": [],
   "source": [
    "# Generate 100 datasets\n",
    "\n",
    "from scipy.stats import uniform,cosine\n",
    "\n",
    "centers = uniform.rvs(-10,20,size=(2,100))  # uniform distribution from -10 to 10\n",
    "vmag = uniform.rvs(0,10,size=100)           # uniform distribution from 0 to 10\n",
    "vang = cosine.rvs(0,np.pi/4,size=100)       # cosine distribution from -pi/2 to pi/2\n",
    "velocities = np.vstack(\n",
    "    [vmag*np.sin(vang),\n",
    "     vmag*np.cos(vang)]\n",
    ")\n",
    "\n",
    "\n",
    "# build the datasets\n",
    "datasets = []\n",
    "for idx in range(100):\n",
    "    \n",
    "    datasets.append( DataGenerator(centers[:,idx], velocities[:,idx]) )"
   ]
  },
  {
   "cell_type": "code",
   "execution_count": 25,
   "id": "b5c4dbe2",
   "metadata": {},
   "outputs": [],
   "source": [
    "# Analyze\n",
    "\n",
    "for idx in range(100):\n",
    "    \n",
    "    # instantiate\n",
    "    analysis = ReadAndWritable_CoolScienceWorkflow(\n",
    "        name = f'experiment_{idx}',\n",
    "        data = datasets[idx].data\n",
    "    )\n",
    "\n",
    "    # analyze\n",
    "    analysis.get_max()\n",
    "    analysis.get_mean()\n",
    "    analysis.get_std()\n",
    "    analysis.get_coms()\n",
    "    \n",
    "    # and save\n",
    "    analysis.save(filepath)"
   ]
  },
  {
   "cell_type": "code",
   "execution_count": 26,
   "id": "492a2ced",
   "metadata": {},
   "outputs": [
    {
     "name": "stdout",
     "output_type": "stream",
     "text": [
      "/\n",
      "|--experiment_0\n",
      "|\t|--coms\n",
      "|\t|--max\n",
      "|\t|--mean\n",
      "|\t|--std\n",
      "|--experiment_1\n",
      "|\t|--coms\n",
      "|\t|--max\n",
      "|\t|--mean\n",
      "|\t|--std\n",
      "|--experiment_10\n",
      "|\t|--coms\n",
      "|\t|--max\n",
      "|\t|--mean\n",
      "|\t|--std\n",
      "|--experiment_11\n",
      "|\t|--coms\n",
      "|\t|--max\n",
      "|\t|--mean\n",
      "|\t|--std\n",
      "|--experiment_12\n",
      "|\t|--coms\n",
      "|\t|--max\n",
      "|\t|--mean\n",
      "|\t|--std\n",
      "|--experiment_13\n",
      "|\t|--coms\n",
      "|\t|--max\n",
      "|\t|--mean\n",
      "|\t|--std\n",
      "|--experiment_14\n",
      "|\t|--coms\n",
      "|\t|--max\n",
      "|\t|--mean\n",
      "|\t|--std\n",
      "|--experiment_15\n",
      "|\t|--coms\n",
      "|\t|--max\n",
      "|\t|--mean\n",
      "|\t|--std\n",
      "|--experiment_16\n",
      "|\t|--coms\n",
      "|\t|--max\n",
      "|\t|--mean\n",
      "|\t|--std\n",
      "|--experiment_17\n",
      "|\t|--coms\n",
      "|\t|--max\n",
      "|\t|--mean\n",
      "|\t|--std\n",
      "|--experiment_18\n",
      "|\t|--coms\n",
      "|\t|--max\n",
      "|\t|--mean\n",
      "|\t|--std\n",
      "|--experiment_19\n",
      "|\t|--coms\n",
      "|\t|--max\n",
      "|\t|--mean\n",
      "|\t|--std\n",
      "|--experiment_2\n",
      "|\t|--coms\n",
      "|\t|--max\n",
      "|\t|--mean\n",
      "|\t|--std\n",
      "|--experiment_20\n",
      "|\t|--coms\n",
      "|\t|--max\n",
      "|\t|--mean\n",
      "|\t|--std\n",
      "|--experiment_21\n",
      "|\t|--coms\n",
      "|\t|--max\n",
      "|\t|--mean\n",
      "|\t|--std\n",
      "|--experiment_22\n",
      "|\t|--coms\n",
      "|\t|--max\n",
      "|\t|--mean\n",
      "|\t|--std\n",
      "|--experiment_23\n",
      "|\t|--coms\n",
      "|\t|--max\n",
      "|\t|--mean\n",
      "|\t|--std\n",
      "|--experiment_24\n",
      "|\t|--coms\n",
      "|\t|--max\n",
      "|\t|--mean\n",
      "|\t|--std\n",
      "|--experiment_25\n",
      "|\t|--coms\n",
      "|\t|--max\n",
      "|\t|--mean\n",
      "|\t|--std\n",
      "|--experiment_26\n",
      "|\t|--coms\n",
      "|\t|--max\n",
      "|\t|--mean\n",
      "|\t|--std\n",
      "|--experiment_27\n",
      "|\t|--coms\n",
      "|\t|--max\n",
      "|\t|--mean\n",
      "|\t|--std\n",
      "|--experiment_28\n",
      "|\t|--coms\n",
      "|\t|--max\n",
      "|\t|--mean\n",
      "|\t|--std\n",
      "|--experiment_29\n",
      "|\t|--coms\n",
      "|\t|--max\n",
      "|\t|--mean\n",
      "|\t|--std\n",
      "|--experiment_3\n",
      "|\t|--coms\n",
      "|\t|--max\n",
      "|\t|--mean\n",
      "|\t|--std\n",
      "|--experiment_30\n",
      "|\t|--coms\n",
      "|\t|--max\n",
      "|\t|--mean\n",
      "|\t|--std\n",
      "|--experiment_31\n",
      "|\t|--coms\n",
      "|\t|--max\n",
      "|\t|--mean\n",
      "|\t|--std\n",
      "|--experiment_32\n",
      "|\t|--coms\n",
      "|\t|--max\n",
      "|\t|--mean\n",
      "|\t|--std\n",
      "|--experiment_33\n",
      "|\t|--coms\n",
      "|\t|--max\n",
      "|\t|--mean\n",
      "|\t|--std\n",
      "|--experiment_34\n",
      "|\t|--coms\n",
      "|\t|--max\n",
      "|\t|--mean\n",
      "|\t|--std\n",
      "|--experiment_35\n",
      "|\t|--coms\n",
      "|\t|--max\n",
      "|\t|--mean\n",
      "|\t|--std\n",
      "|--experiment_36\n",
      "|\t|--coms\n",
      "|\t|--max\n",
      "|\t|--mean\n",
      "|\t|--std\n",
      "|--experiment_37\n",
      "|\t|--coms\n",
      "|\t|--max\n",
      "|\t|--mean\n",
      "|\t|--std\n",
      "|--experiment_38\n",
      "|\t|--coms\n",
      "|\t|--max\n",
      "|\t|--mean\n",
      "|\t|--std\n",
      "|--experiment_39\n",
      "|\t|--coms\n",
      "|\t|--max\n",
      "|\t|--mean\n",
      "|\t|--std\n",
      "|--experiment_4\n",
      "|\t|--coms\n",
      "|\t|--max\n",
      "|\t|--mean\n",
      "|\t|--std\n",
      "|--experiment_40\n",
      "|\t|--coms\n",
      "|\t|--max\n",
      "|\t|--mean\n",
      "|\t|--std\n",
      "|--experiment_41\n",
      "|\t|--coms\n",
      "|\t|--max\n",
      "|\t|--mean\n",
      "|\t|--std\n",
      "|--experiment_42\n",
      "|\t|--coms\n",
      "|\t|--max\n",
      "|\t|--mean\n",
      "|\t|--std\n",
      "|--experiment_43\n",
      "|\t|--coms\n",
      "|\t|--max\n",
      "|\t|--mean\n",
      "|\t|--std\n",
      "|--experiment_44\n",
      "|\t|--coms\n",
      "|\t|--max\n",
      "|\t|--mean\n",
      "|\t|--std\n",
      "|--experiment_45\n",
      "|\t|--coms\n",
      "|\t|--max\n",
      "|\t|--mean\n",
      "|\t|--std\n",
      "|--experiment_46\n",
      "|\t|--coms\n",
      "|\t|--max\n",
      "|\t|--mean\n",
      "|\t|--std\n",
      "|--experiment_47\n",
      "|\t|--coms\n",
      "|\t|--max\n",
      "|\t|--mean\n",
      "|\t|--std\n",
      "|--experiment_48\n",
      "|\t|--coms\n",
      "|\t|--max\n",
      "|\t|--mean\n",
      "|\t|--std\n",
      "|--experiment_49\n",
      "|\t|--coms\n",
      "|\t|--max\n",
      "|\t|--mean\n",
      "|\t|--std\n",
      "|--experiment_5\n",
      "|\t|--coms\n",
      "|\t|--max\n",
      "|\t|--mean\n",
      "|\t|--std\n",
      "|--experiment_50\n",
      "|\t|--coms\n",
      "|\t|--max\n",
      "|\t|--mean\n",
      "|\t|--std\n",
      "|--experiment_51\n",
      "|\t|--coms\n",
      "|\t|--max\n",
      "|\t|--mean\n",
      "|\t|--std\n",
      "|--experiment_52\n",
      "|\t|--coms\n",
      "|\t|--max\n",
      "|\t|--mean\n",
      "|\t|--std\n",
      "|--experiment_53\n",
      "|\t|--coms\n",
      "|\t|--max\n",
      "|\t|--mean\n",
      "|\t|--std\n",
      "|--experiment_54\n",
      "|\t|--coms\n",
      "|\t|--max\n",
      "|\t|--mean\n",
      "|\t|--std\n",
      "|--experiment_55\n",
      "|\t|--coms\n",
      "|\t|--max\n",
      "|\t|--mean\n",
      "|\t|--std\n",
      "|--experiment_56\n",
      "|\t|--coms\n",
      "|\t|--max\n",
      "|\t|--mean\n",
      "|\t|--std\n",
      "|--experiment_57\n",
      "|\t|--coms\n",
      "|\t|--max\n",
      "|\t|--mean\n",
      "|\t|--std\n",
      "|--experiment_58\n",
      "|\t|--coms\n",
      "|\t|--max\n",
      "|\t|--mean\n",
      "|\t|--std\n",
      "|--experiment_59\n",
      "|\t|--coms\n",
      "|\t|--max\n",
      "|\t|--mean\n",
      "|\t|--std\n",
      "|--experiment_6\n",
      "|\t|--coms\n",
      "|\t|--max\n",
      "|\t|--mean\n",
      "|\t|--std\n",
      "|--experiment_60\n",
      "|\t|--coms\n",
      "|\t|--max\n",
      "|\t|--mean\n",
      "|\t|--std\n",
      "|--experiment_61\n",
      "|\t|--coms\n",
      "|\t|--max\n",
      "|\t|--mean\n",
      "|\t|--std\n",
      "|--experiment_62\n",
      "|\t|--coms\n",
      "|\t|--max\n",
      "|\t|--mean\n",
      "|\t|--std\n",
      "|--experiment_63\n",
      "|\t|--coms\n",
      "|\t|--max\n",
      "|\t|--mean\n",
      "|\t|--std\n",
      "|--experiment_64\n",
      "|\t|--coms\n",
      "|\t|--max\n",
      "|\t|--mean\n",
      "|\t|--std\n",
      "|--experiment_65\n",
      "|\t|--coms\n",
      "|\t|--max\n",
      "|\t|--mean\n",
      "|\t|--std\n",
      "|--experiment_66\n",
      "|\t|--coms\n",
      "|\t|--max\n",
      "|\t|--mean\n",
      "|\t|--std\n",
      "|--experiment_67\n",
      "|\t|--coms\n",
      "|\t|--max\n",
      "|\t|--mean\n",
      "|\t|--std\n",
      "|--experiment_68\n",
      "|\t|--coms\n",
      "|\t|--max\n",
      "|\t|--mean\n",
      "|\t|--std\n",
      "|--experiment_69\n",
      "|\t|--coms\n",
      "|\t|--max\n",
      "|\t|--mean\n",
      "|\t|--std\n",
      "|--experiment_7\n",
      "|\t|--coms\n",
      "|\t|--max\n",
      "|\t|--mean\n",
      "|\t|--std\n",
      "|--experiment_70\n",
      "|\t|--coms\n",
      "|\t|--max\n",
      "|\t|--mean\n",
      "|\t|--std\n",
      "|--experiment_71\n",
      "|\t|--coms\n",
      "|\t|--max\n",
      "|\t|--mean\n",
      "|\t|--std\n",
      "|--experiment_72\n",
      "|\t|--coms\n",
      "|\t|--max\n",
      "|\t|--mean\n",
      "|\t|--std\n",
      "|--experiment_73\n",
      "|\t|--coms\n",
      "|\t|--max\n",
      "|\t|--mean\n",
      "|\t|--std\n",
      "|--experiment_74\n",
      "|\t|--coms\n",
      "|\t|--max\n",
      "|\t|--mean\n",
      "|\t|--std\n",
      "|--experiment_75\n",
      "|\t|--coms\n",
      "|\t|--max\n",
      "|\t|--mean\n",
      "|\t|--std\n",
      "|--experiment_76\n",
      "|\t|--coms\n",
      "|\t|--max\n",
      "|\t|--mean\n",
      "|\t|--std\n",
      "|--experiment_77\n",
      "|\t|--coms\n",
      "|\t|--max\n",
      "|\t|--mean\n",
      "|\t|--std\n",
      "|--experiment_78\n",
      "|\t|--coms\n",
      "|\t|--max\n",
      "|\t|--mean\n",
      "|\t|--std\n",
      "|--experiment_79\n",
      "|\t|--coms\n",
      "|\t|--max\n",
      "|\t|--mean\n",
      "|\t|--std\n",
      "|--experiment_8\n",
      "|\t|--coms\n",
      "|\t|--max\n",
      "|\t|--mean\n",
      "|\t|--std\n",
      "|--experiment_80\n",
      "|\t|--coms\n",
      "|\t|--max\n",
      "|\t|--mean\n",
      "|\t|--std\n",
      "|--experiment_81\n",
      "|\t|--coms\n",
      "|\t|--max\n",
      "|\t|--mean\n",
      "|\t|--std\n",
      "|--experiment_82\n",
      "|\t|--coms\n",
      "|\t|--max\n",
      "|\t|--mean\n",
      "|\t|--std\n",
      "|--experiment_83\n",
      "|\t|--coms\n",
      "|\t|--max\n",
      "|\t|--mean\n",
      "|\t|--std\n",
      "|--experiment_84\n",
      "|\t|--coms\n",
      "|\t|--max\n",
      "|\t|--mean\n",
      "|\t|--std\n",
      "|--experiment_85\n",
      "|\t|--coms\n",
      "|\t|--max\n",
      "|\t|--mean\n",
      "|\t|--std\n",
      "|--experiment_86\n",
      "|\t|--coms\n",
      "|\t|--max\n",
      "|\t|--mean\n",
      "|\t|--std\n",
      "|--experiment_87\n",
      "|\t|--coms\n",
      "|\t|--max\n",
      "|\t|--mean\n",
      "|\t|--std\n",
      "|--experiment_88\n",
      "|\t|--coms\n",
      "|\t|--max\n",
      "|\t|--mean\n",
      "|\t|--std\n",
      "|--experiment_89\n",
      "|\t|--coms\n",
      "|\t|--max\n",
      "|\t|--mean\n",
      "|\t|--std\n",
      "|--experiment_9\n",
      "|\t|--coms\n",
      "|\t|--max\n",
      "|\t|--mean\n",
      "|\t|--std\n",
      "|--experiment_90\n",
      "|\t|--coms\n",
      "|\t|--max\n",
      "|\t|--mean\n",
      "|\t|--std\n",
      "|--experiment_91\n",
      "|\t|--coms\n",
      "|\t|--max\n",
      "|\t|--mean\n",
      "|\t|--std\n",
      "|--experiment_92\n",
      "|\t|--coms\n",
      "|\t|--max\n",
      "|\t|--mean\n",
      "|\t|--std\n",
      "|--experiment_93\n",
      "|\t|--coms\n",
      "|\t|--max\n",
      "|\t|--mean\n",
      "|\t|--std\n",
      "|--experiment_94\n",
      "|\t|--coms\n",
      "|\t|--max\n",
      "|\t|--mean\n",
      "|\t|--std\n",
      "|--experiment_95\n",
      "|\t|--coms\n",
      "|\t|--max\n",
      "|\t|--mean\n",
      "|\t|--std\n",
      "|--experiment_96\n",
      "|\t|--coms\n",
      "|\t|--max\n",
      "|\t|--mean\n",
      "|\t|--std\n",
      "|--experiment_97\n",
      "|\t|--coms\n",
      "|\t|--max\n",
      "|\t|--mean\n",
      "|\t|--std\n",
      "|--experiment_98\n",
      "|\t|--coms\n",
      "|\t|--max\n",
      "|\t|--mean\n",
      "|\t|--std\n",
      "|--experiment_99\n",
      "\t|--coms\n",
      "\t|--max\n",
      "\t|--mean\n",
      "\t|--std\n",
      "\n",
      "\n"
     ]
    }
   ],
   "source": [
    "# The tree for this HDF5 file is large...\n",
    "\n",
    "emd.print_h5_tree(filepath)"
   ]
  },
  {
   "cell_type": "code",
   "execution_count": 27,
   "id": "d9722a94",
   "metadata": {},
   "outputs": [
    {
     "name": "stdout",
     "output_type": "stream",
     "text": [
      "Multiple root groups detected - returning root names. Please specify the `emdpath` argument. Returning the list of rootgroups.\n"
     ]
    }
   ],
   "source": [
    "# Later we can come back and load the data...\n",
    "\n",
    "loaded_data = emd.read(filepath)"
   ]
  },
  {
   "cell_type": "code",
   "execution_count": 28,
   "id": "8ee69ca2",
   "metadata": {},
   "outputs": [
    {
     "data": {
      "text/plain": [
       "['experiment_0',\n",
       " 'experiment_1',\n",
       " 'experiment_10',\n",
       " 'experiment_11',\n",
       " 'experiment_12',\n",
       " 'experiment_13',\n",
       " 'experiment_14',\n",
       " 'experiment_15',\n",
       " 'experiment_16',\n",
       " 'experiment_17',\n",
       " 'experiment_18',\n",
       " 'experiment_19',\n",
       " 'experiment_2',\n",
       " 'experiment_20',\n",
       " 'experiment_21',\n",
       " 'experiment_22',\n",
       " 'experiment_23',\n",
       " 'experiment_24',\n",
       " 'experiment_25',\n",
       " 'experiment_26',\n",
       " 'experiment_27',\n",
       " 'experiment_28',\n",
       " 'experiment_29',\n",
       " 'experiment_3',\n",
       " 'experiment_30',\n",
       " 'experiment_31',\n",
       " 'experiment_32',\n",
       " 'experiment_33',\n",
       " 'experiment_34',\n",
       " 'experiment_35',\n",
       " 'experiment_36',\n",
       " 'experiment_37',\n",
       " 'experiment_38',\n",
       " 'experiment_39',\n",
       " 'experiment_4',\n",
       " 'experiment_40',\n",
       " 'experiment_41',\n",
       " 'experiment_42',\n",
       " 'experiment_43',\n",
       " 'experiment_44',\n",
       " 'experiment_45',\n",
       " 'experiment_46',\n",
       " 'experiment_47',\n",
       " 'experiment_48',\n",
       " 'experiment_49',\n",
       " 'experiment_5',\n",
       " 'experiment_50',\n",
       " 'experiment_51',\n",
       " 'experiment_52',\n",
       " 'experiment_53',\n",
       " 'experiment_54',\n",
       " 'experiment_55',\n",
       " 'experiment_56',\n",
       " 'experiment_57',\n",
       " 'experiment_58',\n",
       " 'experiment_59',\n",
       " 'experiment_6',\n",
       " 'experiment_60',\n",
       " 'experiment_61',\n",
       " 'experiment_62',\n",
       " 'experiment_63',\n",
       " 'experiment_64',\n",
       " 'experiment_65',\n",
       " 'experiment_66',\n",
       " 'experiment_67',\n",
       " 'experiment_68',\n",
       " 'experiment_69',\n",
       " 'experiment_7',\n",
       " 'experiment_70',\n",
       " 'experiment_71',\n",
       " 'experiment_72',\n",
       " 'experiment_73',\n",
       " 'experiment_74',\n",
       " 'experiment_75',\n",
       " 'experiment_76',\n",
       " 'experiment_77',\n",
       " 'experiment_78',\n",
       " 'experiment_79',\n",
       " 'experiment_8',\n",
       " 'experiment_80',\n",
       " 'experiment_81',\n",
       " 'experiment_82',\n",
       " 'experiment_83',\n",
       " 'experiment_84',\n",
       " 'experiment_85',\n",
       " 'experiment_86',\n",
       " 'experiment_87',\n",
       " 'experiment_88',\n",
       " 'experiment_89',\n",
       " 'experiment_9',\n",
       " 'experiment_90',\n",
       " 'experiment_91',\n",
       " 'experiment_92',\n",
       " 'experiment_93',\n",
       " 'experiment_94',\n",
       " 'experiment_95',\n",
       " 'experiment_96',\n",
       " 'experiment_97',\n",
       " 'experiment_98',\n",
       " 'experiment_99']"
      ]
     },
     "execution_count": 28,
     "metadata": {},
     "output_type": "execute_result"
    }
   ],
   "source": [
    "# Because we added all 100 experiments to one file, `emd` is prompting us to specify which experiment we want\n",
    "# to load, and returned to us a list of all the options\n",
    "\n",
    "loaded_data"
   ]
  },
  {
   "cell_type": "code",
   "execution_count": 30,
   "id": "e5c00bdc",
   "metadata": {},
   "outputs": [],
   "source": [
    "# Here we enumerate over all the experiments we saved into the file, and\n",
    "# extract the centers of mass we already calculated, and use them to\n",
    "# find the blobs' mean velocities\n",
    "\n",
    "orientations = np.empty(100)\n",
    "\n",
    "for idx,rootname in enumerate(loaded_data):   # loop through all the experiments\n",
    "    \n",
    "    root = emd.read(filepath, emdpath=rootname)     # open this experiment\n",
    "    coms = root.tree('coms')                  # get the centers of mass\n",
    "    v_mean = coms[:,-1] - coms[:,0]           # determine the velocity orientation\n",
    "    orientations[idx] = np.angle(-1j*v_mean[0]+v_mean[1])\n"
   ]
  },
  {
   "cell_type": "code",
   "execution_count": 31,
   "id": "da5dc47e",
   "metadata": {},
   "outputs": [
    {
     "data": {
      "image/png": "[encoded data removed]",
      "text/plain": [
       "<Figure size 432x288 with 1 Axes>"
      ]
     },
     "metadata": {
      "needs_background": "light"
     },
     "output_type": "display_data"
    }
   ],
   "source": [
    "# Aha!  The velocities have a directional bias!\n",
    "# (WEIRD I WONDER WHY THAT IS......)\n",
    "\n",
    "import matplotlib.pyplot as plt\n",
    "\n",
    "fig,ax = plt.subplots()\n",
    "ax.hist(orientations, bins=np.linspace(-np.pi,np.pi,30))\n",
    "plt.show()"
   ]
  },
  {
   "cell_type": "code",
   "execution_count": null,
   "id": "8445912c",
   "metadata": {},
   "outputs": [],
   "source": []
  },
  {
   "cell_type": "code",
   "execution_count": null,
   "id": "db94da55",
   "metadata": {},
   "outputs": [],
   "source": []
  },
  {
   "cell_type": "code",
   "execution_count": null,
   "id": "4235ebdb",
   "metadata": {},
   "outputs": [],
   "source": []
  },
  {
   "cell_type": "code",
   "execution_count": null,
   "id": "bc6d087a",
   "metadata": {},
   "outputs": [],
   "source": []
  }
 ],
 "metadata": {
  "kernelspec": {
   "display_name": "Python 3 (ipykernel)",
   "language": "python",
   "name": "python3"
  },
  "language_info": {
   "codemirror_mode": {
    "name": "ipython",
    "version": 3
   },
   "file_extension": ".py",
   "mimetype": "text/x-python",
   "name": "python",
   "nbconvert_exporter": "python",
   "pygments_lexer": "ipython3",
   "version": "3.10.9"
  }
 },
 "nbformat": 4,
 "nbformat_minor": 5
}
