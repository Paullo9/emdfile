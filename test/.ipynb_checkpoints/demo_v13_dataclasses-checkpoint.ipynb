{
 "cells": [
  {
   "cell_type": "markdown",
   "id": "54d38009",
   "metadata": {},
   "source": [
    "# Demo v13 dataclasses"
   ]
  },
  {
   "cell_type": "code",
   "execution_count": 1,
   "id": "7d3015b5",
   "metadata": {},
   "outputs": [],
   "source": [
    "import py4DSTEM\n",
    "import numpy as np"
   ]
  },
  {
   "cell_type": "code",
   "execution_count": 2,
   "id": "709293e9",
   "metadata": {},
   "outputs": [
    {
     "data": {
      "text/plain": [
       "'0.13.0'"
      ]
     },
     "execution_count": 2,
     "metadata": {},
     "output_type": "execute_result"
    }
   ],
   "source": [
    "py4DSTEM.__version__"
   ]
  },
  {
   "cell_type": "markdown",
   "id": "8ce3566c",
   "metadata": {},
   "source": [
    "## Array"
   ]
  },
  {
   "cell_type": "code",
   "execution_count": 3,
   "id": "31db7a76",
   "metadata": {},
   "outputs": [],
   "source": [
    "py4DSTEM.io.datastructure.Array?"
   ]
  },
  {
   "cell_type": "code",
   "execution_count": 4,
   "id": "3926d6a1",
   "metadata": {},
   "outputs": [],
   "source": [
    "# Make an array\n",
    "\n",
    "shape = (3,4,5,6,7)\n",
    "data = np.arange(np.prod(shape)).reshape(shape)\n",
    "\n",
    "py4dstem_array = py4DSTEM.io.datastructure.Array(\n",
    "    data = data,\n",
    "    name = 'test_array',\n",
    "    units = 'intensity',   # units of the data elements, rather than the dims\n",
    "    dims = [\n",
    "        5,              # dims can be a single number, then a leading '0' is assumed\n",
    "        [0,5],          # they can be a pair of numbers, then Array linearly extrapolates\n",
    "        0.1243,\n",
    "        [0,2,3,4,5,10]  # or they can be a vector of the appropriate length\n",
    "                        # any unspecified dims are autopopulated as [0,1,...]\n",
    "    ],\n",
    "    dim_units = [\n",
    "        'nm',           # any dims with unspecified units will be autopopulated with\n",
    "        'nm',           # either \"pixels\" (if the dim was set to [0,1,..]) or \"unknown\" (if not)\n",
    "        'A^-1',\n",
    "    ],\n",
    "    dim_names = [\n",
    "        'rx',\n",
    "        'ry',\n",
    "        'qx',\n",
    "    ]\n",
    ")"
   ]
  },
  {
   "cell_type": "code",
   "execution_count": 5,
   "id": "f2079232",
   "metadata": {},
   "outputs": [
    {
     "data": {
      "text/plain": [
       "Array( A 5-dimensional array of shape (3, 4, 5, 6, 7) called 'test_array',\n",
       "       with dimensions:\n",
       "\n",
       "       rx = [0,5,...] nm\n",
       "       ry = [0,5,...] nm\n",
       "       qx = [0.0,0.1243,...] A^-1\n",
       "       dim3 = [0,2,...] unknown\n",
       "       dim4 = [0,1,...] pixels\n",
       ")"
      ]
     },
     "execution_count": 5,
     "metadata": {},
     "output_type": "execute_result"
    }
   ],
   "source": [
    "py4dstem_array"
   ]
  },
  {
   "cell_type": "code",
   "execution_count": 6,
   "id": "d0ede8fa",
   "metadata": {},
   "outputs": [
    {
     "name": "stdout",
     "output_type": "stream",
     "text": [
      "(3, 4, 5, 6, 7)\n",
      "5\n"
     ]
    }
   ],
   "source": [
    "print(py4dstem_array.shape)\n",
    "print(py4dstem_array.rank)"
   ]
  },
  {
   "cell_type": "code",
   "execution_count": 7,
   "id": "3a894a63",
   "metadata": {},
   "outputs": [
    {
     "data": {
      "text/plain": [
       "array([[[[[   0,    1],\n",
       "          [   7,    8]],\n",
       "\n",
       "         [[  42,   43],\n",
       "          [  49,   50]]],\n",
       "\n",
       "\n",
       "        [[[ 210,  211],\n",
       "          [ 217,  218]],\n",
       "\n",
       "         [[ 252,  253],\n",
       "          [ 259,  260]]]],\n",
       "\n",
       "\n",
       "\n",
       "       [[[[ 840,  841],\n",
       "          [ 847,  848]],\n",
       "\n",
       "         [[ 882,  883],\n",
       "          [ 889,  890]]],\n",
       "\n",
       "\n",
       "        [[[1050, 1051],\n",
       "          [1057, 1058]],\n",
       "\n",
       "         [[1092, 1093],\n",
       "          [1099, 1100]]]]])"
      ]
     },
     "execution_count": 7,
     "metadata": {},
     "output_type": "execute_result"
    }
   ],
   "source": [
    "py4dstem_array.data[:2,:2,:2,:2,:2]"
   ]
  },
  {
   "cell_type": "code",
   "execution_count": 8,
   "id": "a2988f53",
   "metadata": {},
   "outputs": [
    {
     "data": {
      "text/plain": [
       "array([[[[[   0,    1],\n",
       "          [   7,    8]],\n",
       "\n",
       "         [[  42,   43],\n",
       "          [  49,   50]]],\n",
       "\n",
       "\n",
       "        [[[ 210,  211],\n",
       "          [ 217,  218]],\n",
       "\n",
       "         [[ 252,  253],\n",
       "          [ 259,  260]]]],\n",
       "\n",
       "\n",
       "\n",
       "       [[[[ 840,  841],\n",
       "          [ 847,  848]],\n",
       "\n",
       "         [[ 882,  883],\n",
       "          [ 889,  890]]],\n",
       "\n",
       "\n",
       "        [[[1050, 1051],\n",
       "          [1057, 1058]],\n",
       "\n",
       "         [[1092, 1093],\n",
       "          [1099, 1100]]]]])"
      ]
     },
     "execution_count": 8,
     "metadata": {},
     "output_type": "execute_result"
    }
   ],
   "source": [
    "py4dstem_array[:2,:2,:2,:2,:2]"
   ]
  },
  {
   "cell_type": "code",
   "execution_count": 9,
   "id": "3739edb2",
   "metadata": {},
   "outputs": [],
   "source": [
    "# Make an array stack\n",
    "\n",
    "# Make a 3D numpy array\n",
    "shape = (10,10,4)\n",
    "data = np.arange(np.prod(shape)).reshape(shape)\n",
    "\n",
    "# Make the Array instance\n",
    "py4dstem_arraystack = py4DSTEM.io.datastructure.Array(\n",
    "    data = data,\n",
    "    name = 'test_arraystack',\n",
    "    units = 'intensity',\n",
    "    dims = [\n",
    "        5,\n",
    "        [0,5]\n",
    "    ],\n",
    "    dim_units = [\n",
    "        'nm',\n",
    "        'nm'\n",
    "    ],\n",
    "    dim_names = [\n",
    "        'rx',\n",
    "        'ry'\n",
    "    ],\n",
    "    slicelabels = [             # to make a stack array, just pass 'slicelabels', and the last dim\n",
    "        'the',                  # is understood to be the slice axis\n",
    "        'cow',\n",
    "        'jumped',\n",
    "        'over'\n",
    "    ]\n",
    ")"
   ]
  },
  {
   "cell_type": "code",
   "execution_count": 10,
   "id": "e49f437a",
   "metadata": {},
   "outputs": [
    {
     "data": {
      "text/plain": [
       "Array( A stack of 4 Arrays with 2-dimensions and shape (10, 10), called 'test_arraystack'\n",
       "\n",
       "       The labels are:\n",
       "           the\n",
       "           cow\n",
       "           jumped\n",
       "           over\n",
       "\n",
       "\n",
       "       The Array dimensions are:\n",
       "           rx = [0,5,...] nm\n",
       "           ry = [0,5,...] nm\n",
       ")"
      ]
     },
     "execution_count": 10,
     "metadata": {},
     "output_type": "execute_result"
    }
   ],
   "source": [
    "py4dstem_arraystack"
   ]
  },
  {
   "cell_type": "code",
   "execution_count": 12,
   "id": "236bca09",
   "metadata": {},
   "outputs": [
    {
     "name": "stdout",
     "output_type": "stream",
     "text": [
      "(10, 10)\n",
      "2\n"
     ]
    }
   ],
   "source": [
    "print(py4dstem_arraystack.shape)\n",
    "print(py4dstem_arraystack.rank)"
   ]
  },
  {
   "cell_type": "code",
   "execution_count": 13,
   "id": "94c30548",
   "metadata": {},
   "outputs": [
    {
     "name": "stdout",
     "output_type": "stream",
     "text": [
      "(10, 10, 4)\n",
      "4\n"
     ]
    }
   ],
   "source": [
    "print(py4dstem_arraystack.data.shape)\n",
    "print(py4dstem_arraystack.depth)"
   ]
  },
  {
   "cell_type": "code",
   "execution_count": 14,
   "id": "0f6f702c",
   "metadata": {},
   "outputs": [
    {
     "name": "stdout",
     "output_type": "stream",
     "text": [
      "0\n"
     ]
    }
   ],
   "source": [
    "print(py4dstem_array.depth)"
   ]
  },
  {
   "cell_type": "code",
   "execution_count": 15,
   "id": "f5e356bb",
   "metadata": {},
   "outputs": [
    {
     "data": {
      "text/plain": [
       "Array( A 2-dimensional array of shape (10, 10) called 'test_arraystack_cow',\n",
       "       with dimensions:\n",
       "\n",
       "       rx = [0,5,...] nm\n",
       "       dim1 = [0,1,...] pixels\n",
       ")"
      ]
     },
     "execution_count": 15,
     "metadata": {},
     "output_type": "execute_result"
    }
   ],
   "source": [
    "py4dstem_arraystack.get_slice('cow')"
   ]
  },
  {
   "cell_type": "code",
   "execution_count": 16,
   "id": "debecbc4",
   "metadata": {},
   "outputs": [
    {
     "data": {
      "text/plain": [
       "Array( A 2-dimensional array of shape (10, 10) called 'test_arraystack_cow',\n",
       "       with dimensions:\n",
       "\n",
       "       rx = [0,5,...] nm\n",
       "       dim1 = [0,1,...] pixels\n",
       ")"
      ]
     },
     "execution_count": 16,
     "metadata": {},
     "output_type": "execute_result"
    }
   ],
   "source": [
    "py4dstem_arraystack['cow']"
   ]
  },
  {
   "cell_type": "code",
   "execution_count": 17,
   "id": "7081f35c",
   "metadata": {},
   "outputs": [
    {
     "data": {
      "text/plain": [
       "['the', 'cow', 'jumped', 'over']"
      ]
     },
     "execution_count": 17,
     "metadata": {},
     "output_type": "execute_result"
    }
   ],
   "source": [
    "py4dstem_arraystack.slicelabels"
   ]
  },
  {
   "cell_type": "code",
   "execution_count": 18,
   "id": "47d7a64a",
   "metadata": {},
   "outputs": [],
   "source": [
    "# Re-assigning a slice name propagates correctly\n",
    "py4dstem_arraystack.slicelabels[2] = 'meow'"
   ]
  },
  {
   "cell_type": "code",
   "execution_count": 19,
   "id": "89f37953",
   "metadata": {},
   "outputs": [
    {
     "data": {
      "text/plain": [
       "['the', 'cow', 'meow', 'over']"
      ]
     },
     "execution_count": 19,
     "metadata": {},
     "output_type": "execute_result"
    }
   ],
   "source": [
    "py4dstem_arraystack.slicelabels"
   ]
  },
  {
   "cell_type": "code",
   "execution_count": 20,
   "id": "8857c77d",
   "metadata": {},
   "outputs": [
    {
     "data": {
      "text/plain": [
       "Array( A stack of 4 Arrays with 2-dimensions and shape (10, 10), called 'test_arraystack'\n",
       "\n",
       "       The labels are:\n",
       "           the\n",
       "           cow\n",
       "           meow\n",
       "           over\n",
       "\n",
       "\n",
       "       The Array dimensions are:\n",
       "           rx = [0,5,...] nm\n",
       "           ry = [0,5,...] nm\n",
       ")"
      ]
     },
     "execution_count": 20,
     "metadata": {},
     "output_type": "execute_result"
    }
   ],
   "source": [
    "py4dstem_arraystack"
   ]
  },
  {
   "cell_type": "code",
   "execution_count": 21,
   "id": "c03d7474",
   "metadata": {},
   "outputs": [
    {
     "data": {
      "text/plain": [
       "Array( A 2-dimensional array of shape (10, 10) called 'test_arraystack_meow',\n",
       "       with dimensions:\n",
       "\n",
       "       rx = [0,5,...] nm\n",
       "       dim1 = [0,1,...] pixels\n",
       ")"
      ]
     },
     "execution_count": 21,
     "metadata": {},
     "output_type": "execute_result"
    }
   ],
   "source": [
    "py4dstem_arraystack['meow']"
   ]
  },
  {
   "cell_type": "code",
   "execution_count": 22,
   "id": "7c0cd4d5",
   "metadata": {},
   "outputs": [
    {
     "data": {
      "text/plain": [
       "Array( A 2-dimensional array of shape (10, 10) called 'meowth_thats_right',\n",
       "       with dimensions:\n",
       "\n",
       "       rx = [0,5,...] nm\n",
       "       dim1 = [0,1,...] pixels\n",
       ")"
      ]
     },
     "execution_count": 22,
     "metadata": {},
     "output_type": "execute_result"
    }
   ],
   "source": [
    "py4dstem_arraystack.get_slice('meow', name='meowth_thats_right')"
   ]
  },
  {
   "cell_type": "code",
   "execution_count": 23,
   "id": "98281a15",
   "metadata": {},
   "outputs": [
    {
     "data": {
      "text/plain": [
       "137"
      ]
     },
     "execution_count": 23,
     "metadata": {},
     "output_type": "execute_result"
    }
   ],
   "source": [
    "py4dstem_arraystack['cow',3,4]"
   ]
  },
  {
   "cell_type": "code",
   "execution_count": 24,
   "id": "4ce35aa6",
   "metadata": {},
   "outputs": [
    {
     "data": {
      "text/plain": [
       "array([[137, 141, 145],\n",
       "       [177, 181, 185]])"
      ]
     },
     "execution_count": 24,
     "metadata": {},
     "output_type": "execute_result"
    }
   ],
   "source": [
    "py4dstem_arraystack['cow',3:5,4:7]"
   ]
  },
  {
   "cell_type": "code",
   "execution_count": 25,
   "id": "df4e4903",
   "metadata": {},
   "outputs": [
    {
     "data": {
      "text/plain": [
       "array([[137, 141, 145],\n",
       "       [177, 181, 185]])"
      ]
     },
     "execution_count": 25,
     "metadata": {},
     "output_type": "execute_result"
    }
   ],
   "source": [
    "py4dstem_arraystack[3:5,4:7,1]"
   ]
  },
  {
   "cell_type": "markdown",
   "id": "50c31713",
   "metadata": {},
   "source": [
    "## Datacube\n",
    "\n",
    "(child class of Array)"
   ]
  },
  {
   "cell_type": "code",
   "execution_count": 26,
   "id": "d4d63187",
   "metadata": {},
   "outputs": [],
   "source": [
    "# Make a 4D datacube\n",
    "\n",
    "shape = (8,8,64,64)\n",
    "data = np.ones(shape)\n",
    "\n",
    "datacube = py4DSTEM.io.datastructure.DataCube(\n",
    "    data = data,\n",
    "    name = 'test_datacube',\n",
    "    rsize = 5,                      # rsize,qsize,runits,qunits can all be either a len-2 list\n",
    "    runits = 'nm',                  # or a number, which will autopopulate a len-2 list\n",
    "    qsize = [0.01,0.02],\n",
    "    qunits = ['A^-1','nm^-1']\n",
    ")"
   ]
  },
  {
   "cell_type": "code",
   "execution_count": 27,
   "id": "70783190",
   "metadata": {},
   "outputs": [
    {
     "data": {
      "text/plain": [
       "DataCube( A 4-dimensional array of shape (8, 8, 64, 64) called 'test_datacube',\n",
       "          with dimensions:\n",
       "\n",
       "          Rx = [0,5,...] nm\n",
       "          Ry = [0,5,...] nm\n",
       "          Qx = [0.0,0.01,...] A^-1\n",
       "          Qy = [0.0,0.02,...] nm^-1\n",
       ")"
      ]
     },
     "execution_count": 27,
     "metadata": {},
     "output_type": "execute_result"
    }
   ],
   "source": [
    "datacube"
   ]
  },
  {
   "cell_type": "code",
   "execution_count": 28,
   "id": "20a57587",
   "metadata": {},
   "outputs": [
    {
     "name": "stdout",
     "output_type": "stream",
     "text": [
      "['A^-1', 'A^-1']\n",
      "['nm', 'nm', 'A^-1', 'A^-1']\n",
      "\n"
     ]
    },
    {
     "data": {
      "text/plain": [
       "DataCube( A 4-dimensional array of shape (8, 8, 64, 64) called 'test_datacube',\n",
       "          with dimensions:\n",
       "\n",
       "          Rx = [0,5,...] nm\n",
       "          Ry = [0,5,...] nm\n",
       "          Qx = [0.0,0.01,...] A^-1\n",
       "          Qy = [0.0,0.02,...] A^-1\n",
       ")"
      ]
     },
     "execution_count": 28,
     "metadata": {},
     "output_type": "execute_result"
    }
   ],
   "source": [
    "datacube.qunits = 'A^-1'\n",
    "print(datacube.qunits)\n",
    "print(datacube.dim_units)\n",
    "print()\n",
    "datacube"
   ]
  },
  {
   "cell_type": "code",
   "execution_count": 29,
   "id": "adda2915",
   "metadata": {},
   "outputs": [],
   "source": [
    "# Make a stack of 4D datacubes\n",
    "\n",
    "shape = (8,8,64,64,3)\n",
    "data = np.ones(shape)\n",
    "\n",
    "datacubestack = py4DSTEM.io.datastructure.DataCube(\n",
    "    data = data,\n",
    "    name = 'test_datacubestack',\n",
    "    rsize = 5,\n",
    "    runits = 'nm',\n",
    "    qsize = [0.01,0.02],\n",
    "    qunits = ['A^-1','nm^-1'],\n",
    "    slicelabels = [\n",
    "        'datacube1',\n",
    "        'datacube2',\n",
    "        'datacube3'\n",
    "    ]\n",
    ")"
   ]
  },
  {
   "cell_type": "code",
   "execution_count": 30,
   "id": "2709e975",
   "metadata": {},
   "outputs": [
    {
     "data": {
      "text/plain": [
       "DataCube( A stack of 3 Arrays with 4-dimensions and shape (8, 8, 64, 64), called 'test_datacubestack'\n",
       "\n",
       "          The labels are:\n",
       "              datacube1\n",
       "              datacube2\n",
       "              datacube3\n",
       "\n",
       "\n",
       "          The Array dimensions are:\n",
       "              Rx = [0,5,...] nm\n",
       "              Ry = [0,5,...] nm\n",
       "              Qx = [0.0,0.01,...] A^-1\n",
       "              Qy = [0.0,0.02,...] nm^-1\n",
       ")"
      ]
     },
     "execution_count": 30,
     "metadata": {},
     "output_type": "execute_result"
    }
   ],
   "source": [
    "datacubestack"
   ]
  },
  {
   "cell_type": "code",
   "execution_count": 31,
   "id": "3c1f9512",
   "metadata": {},
   "outputs": [
    {
     "name": "stdout",
     "output_type": "stream",
     "text": [
      "['A^-1', 'A^-1']\n",
      "['nm', 'nm', 'A^-1', 'A^-1']\n",
      "DataCube( A stack of 3 Arrays with 4-dimensions and shape (8, 8, 64, 64), called 'test_datacubestack'\n",
      "\n",
      "          The labels are:\n",
      "              datacube1\n",
      "              datacube2\n",
      "              datacube3\n",
      "\n",
      "\n",
      "          The Array dimensions are:\n",
      "              Rx = [0,5,...] nm\n",
      "              Ry = [0,5,...] nm\n",
      "              Qx = [0.0,0.01,...] A^-1\n",
      "              Qy = [0.0,0.02,...] A^-1\n",
      ")\n"
     ]
    }
   ],
   "source": [
    "datacubestack.qunits = 'A^-1'\n",
    "print(datacubestack.qunits)\n",
    "print(datacubestack.dim_units)\n",
    "print(datacubestack)"
   ]
  },
  {
   "cell_type": "markdown",
   "id": "5f4db72d",
   "metadata": {},
   "source": [
    "## DiffractionSlice, RealSlice\n",
    "\n",
    "(child classes of Array)"
   ]
  },
  {
   "cell_type": "code",
   "execution_count": 32,
   "id": "46efd551",
   "metadata": {},
   "outputs": [],
   "source": [
    "# Make a DiffractionSlice\n",
    "\n",
    "shape = (256,256)\n",
    "data = np.arange(np.prod(shape)).reshape(shape)\n",
    "\n",
    "# Make the Array instance\n",
    "py4dstem_diffractionslice = py4DSTEM.io.datastructure.DiffractionSlice(\n",
    "    data = data,\n",
    "    name = 'test_diffractionslice',\n",
    "    pixelsize = 2,                          # number or len-2 list\n",
    "    pixelunits = 'A^-1',                    # string or len-2 list\n",
    ")"
   ]
  },
  {
   "cell_type": "code",
   "execution_count": 33,
   "id": "fb8203cf",
   "metadata": {},
   "outputs": [
    {
     "data": {
      "text/plain": [
       "DiffractionSlice( A 2-dimensional array of shape (256, 256) called 'test_diffractionslice',\n",
       "                  with dimensions:\n",
       "\n",
       "                  Qx = [0,2,...] A^-1\n",
       "                  Qy = [0,2,...] A^-1\n",
       ")"
      ]
     },
     "execution_count": 33,
     "metadata": {},
     "output_type": "execute_result"
    }
   ],
   "source": [
    "py4dstem_diffractionslice"
   ]
  },
  {
   "cell_type": "code",
   "execution_count": 34,
   "id": "9378dc4e",
   "metadata": {},
   "outputs": [],
   "source": [
    "# Make a DiffractionSlice stack\n",
    "\n",
    "shape = (64,64,3)\n",
    "data = np.ones(shape)\n",
    "\n",
    "diffractionstack = py4DSTEM.io.datastructure.DiffractionSlice(\n",
    "    data = data,\n",
    "    name = 'test_diffractionstack',\n",
    "    pixelsize = 3,\n",
    "    pixelunits = 'A^-1',\n",
    "    slicelabels = [\n",
    "        'im',\n",
    "        'a',\n",
    "        'teapot'\n",
    "    ]\n",
    ")"
   ]
  },
  {
   "cell_type": "code",
   "execution_count": 35,
   "id": "cdbaba80",
   "metadata": {},
   "outputs": [
    {
     "data": {
      "text/plain": [
       "DiffractionSlice( A stack of 3 Arrays with 2-dimensions and shape (64, 64), called 'test_diffractionstack'\n",
       "\n",
       "                  The labels are:\n",
       "                      im\n",
       "                      a\n",
       "                      teapot\n",
       "\n",
       "\n",
       "                  The Array dimensions are:\n",
       "                      Qx = [0,3,...] A^-1\n",
       "                      Qy = [0,3,...] A^-1\n",
       ")"
      ]
     },
     "execution_count": 35,
     "metadata": {},
     "output_type": "execute_result"
    }
   ],
   "source": [
    "diffractionstack"
   ]
  },
  {
   "cell_type": "code",
   "execution_count": 36,
   "id": "bb2e54d7",
   "metadata": {},
   "outputs": [
    {
     "name": "stdout",
     "output_type": "stream",
     "text": [
      "['A^-1', 'A^-1']\n",
      "['A^-1', 'A^-1']\n",
      "DiffractionSlice( A stack of 3 Arrays with 2-dimensions and shape (64, 64), called 'test_diffractionstack'\n",
      "\n",
      "                  The labels are:\n",
      "                      im\n",
      "                      a\n",
      "                      teapot\n",
      "\n",
      "\n",
      "                  The Array dimensions are:\n",
      "                      Qx = [0,3,...] A^-1\n",
      "                      Qy = [0,3,...] A^-1\n",
      ")\n"
     ]
    }
   ],
   "source": [
    "print(diffractionstack.pixelunits)\n",
    "print(diffractionstack.dim_units)\n",
    "print(diffractionstack)"
   ]
  },
  {
   "cell_type": "markdown",
   "id": "797dc9df",
   "metadata": {},
   "source": [
    "## PointList"
   ]
  },
  {
   "cell_type": "code",
   "execution_count": 37,
   "id": "3e120f20",
   "metadata": {},
   "outputs": [],
   "source": [
    "# Make a PointList\n",
    "\n",
    "# generate a structured numpy array\n",
    "dtype = [('qx',float),\n",
    "         ('qy',float),\n",
    "         ('I',float),\n",
    "         ('h',int),\n",
    "         ('k',int),\n",
    "         ('l',int)]\n",
    "data = np.zeros(10,dtype=dtype)\n",
    "\n",
    "pointlist = py4DSTEM.io.datastructure.PointList(\n",
    "    data = data,                                     # accepts numpy structured arrays - no more \"coordinates\"\n",
    "    name = 'test_pointlist'\n",
    ")"
   ]
  },
  {
   "cell_type": "code",
   "execution_count": 38,
   "id": "2ffb119b",
   "metadata": {},
   "outputs": [
    {
     "data": {
      "text/plain": [
       "PointList( A length 10 PointList called 'test_pointlist',\n",
       "           with 6 fields:\n",
       "\n",
       "           qx   (float64)\n",
       "           qy   (float64)\n",
       "           I    (float64)\n",
       "           h    (int64)\n",
       "           k    (int64)\n",
       "           l    (int64)\n",
       ")"
      ]
     },
     "execution_count": 38,
     "metadata": {},
     "output_type": "execute_result"
    }
   ],
   "source": [
    "pointlist"
   ]
  },
  {
   "cell_type": "code",
   "execution_count": 39,
   "id": "e9ba7a85",
   "metadata": {},
   "outputs": [
    {
     "data": {
      "text/plain": [
       "array([(0., 0., 0., 0, 0, 0), (0., 0., 0., 0, 0, 0),\n",
       "       (0., 0., 0., 0, 0, 0), (0., 0., 0., 0, 0, 0),\n",
       "       (0., 0., 0., 0, 0, 0), (0., 0., 0., 0, 0, 0),\n",
       "       (0., 0., 0., 0, 0, 0), (0., 0., 0., 0, 0, 0),\n",
       "       (0., 0., 0., 0, 0, 0), (0., 0., 0., 0, 0, 0)],\n",
       "      dtype=[('qx', '<f8'), ('qy', '<f8'), ('I', '<f8'), ('h', '<i8'), ('k', '<i8'), ('l', '<i8')])"
      ]
     },
     "execution_count": 39,
     "metadata": {},
     "output_type": "execute_result"
    }
   ],
   "source": [
    "pointlist.data"
   ]
  },
  {
   "cell_type": "code",
   "execution_count": 41,
   "id": "f2594adb",
   "metadata": {},
   "outputs": [
    {
     "data": {
      "text/plain": [
       "array([0., 0., 0., 0., 0., 0., 0., 0., 0., 0.])"
      ]
     },
     "execution_count": 41,
     "metadata": {},
     "output_type": "execute_result"
    }
   ],
   "source": [
    "pointlist.data['qx']"
   ]
  },
  {
   "cell_type": "code",
   "execution_count": 42,
   "id": "746e38bd",
   "metadata": {},
   "outputs": [
    {
     "data": {
      "text/plain": [
       "array([(0., 0., 0., 0, 0, 0), (0., 0., 0., 0, 0, 0),\n",
       "       (0., 0., 0., 0, 0, 0)],\n",
       "      dtype=[('qx', '<f8'), ('qy', '<f8'), ('I', '<f8'), ('h', '<i8'), ('k', '<i8'), ('l', '<i8')])"
      ]
     },
     "execution_count": 42,
     "metadata": {},
     "output_type": "execute_result"
    }
   ],
   "source": [
    "pointlist.data[:3]"
   ]
  },
  {
   "cell_type": "code",
   "execution_count": 43,
   "id": "98773386",
   "metadata": {},
   "outputs": [
    {
     "data": {
      "text/plain": [
       "array([(0., 0., 0., 0, 0, 0), (0., 0., 0., 0, 0, 0),\n",
       "       (0., 0., 0., 0, 0, 0), (0., 0., 0., 0, 0, 0),\n",
       "       (0., 0., 0., 0, 0, 0), (0., 0., 0., 0, 0, 0),\n",
       "       (0., 0., 0., 0, 0, 0), (0., 0., 0., 0, 0, 0),\n",
       "       (0., 0., 0., 0, 0, 0), (0., 0., 0., 0, 0, 0)],\n",
       "      dtype=[('qx', '<f8'), ('qy', '<f8'), ('I', '<f8'), ('h', '<i8'), ('k', '<i8'), ('l', '<i8')])"
      ]
     },
     "execution_count": 43,
     "metadata": {},
     "output_type": "execute_result"
    }
   ],
   "source": [
    "pointlist[...]"
   ]
  },
  {
   "cell_type": "code",
   "execution_count": 44,
   "id": "0f04e23e",
   "metadata": {},
   "outputs": [
    {
     "data": {
      "text/plain": [
       "array([0., 0., 0., 0., 0., 0., 0., 0., 0., 0.])"
      ]
     },
     "execution_count": 44,
     "metadata": {},
     "output_type": "execute_result"
    }
   ],
   "source": [
    "pointlist['qx']"
   ]
  },
  {
   "cell_type": "code",
   "execution_count": 45,
   "id": "0fdeac1f",
   "metadata": {},
   "outputs": [
    {
     "data": {
      "text/plain": [
       "array([(0., 0., 0., 0, 0, 0), (0., 0., 0., 0, 0, 0),\n",
       "       (0., 0., 0., 0, 0, 0)],\n",
       "      dtype=[('qx', '<f8'), ('qy', '<f8'), ('I', '<f8'), ('h', '<i8'), ('k', '<i8'), ('l', '<i8')])"
      ]
     },
     "execution_count": 45,
     "metadata": {},
     "output_type": "execute_result"
    }
   ],
   "source": [
    "pointlist[:3]"
   ]
  },
  {
   "cell_type": "markdown",
   "id": "00845b60",
   "metadata": {},
   "source": [
    "## PointListArray"
   ]
  },
  {
   "cell_type": "code",
   "execution_count": 47,
   "id": "42ff84d1",
   "metadata": {},
   "outputs": [],
   "source": [
    "# Make a PointListArray\n",
    "\n",
    "# Set up datatype and shape\n",
    "dtype = [('qx',float),\n",
    "         ('qy',float),\n",
    "         ('I',float)]\n",
    "shape = (20,30)\n",
    "\n",
    "\n",
    "pla = py4DSTEM.io.datastructure.PointListArray(\n",
    "    dtype = dtype,\n",
    "    shape = shape,\n",
    "    name = 'test_pla'\n",
    ")\n",
    "\n",
    "for rx in range(pla.shape[0]):\n",
    "    for ry in range(pla.shape[1]):\n",
    "        data = np.ones(10,dtype=dtype)\n",
    "        data['I'] *= (ry*shape[0]+rx)\n",
    "        pla[rx,ry].append(data)"
   ]
  },
  {
   "cell_type": "code",
   "execution_count": 48,
   "id": "6c09829f",
   "metadata": {},
   "outputs": [
    {
     "data": {
      "text/plain": [
       "PointListArray( A shape (20, 30) PointListArray called 'test_pla',\n",
       "                with 3 fields:\n",
       "\n",
       "                qx   (float64)\n",
       "                qy   (float64)\n",
       "                I    (float64)\n",
       ")"
      ]
     },
     "execution_count": 48,
     "metadata": {},
     "output_type": "execute_result"
    }
   ],
   "source": [
    "pla"
   ]
  },
  {
   "cell_type": "code",
   "execution_count": 49,
   "id": "cf6bd763",
   "metadata": {},
   "outputs": [
    {
     "data": {
      "text/plain": [
       "PointList( A length 10 PointList called '5,1',\n",
       "           with 3 fields:\n",
       "\n",
       "           qx   (float64)\n",
       "           qy   (float64)\n",
       "           I    (float64)\n",
       ")"
      ]
     },
     "execution_count": 49,
     "metadata": {},
     "output_type": "execute_result"
    }
   ],
   "source": [
    "pla.get_pointlist(5,1)"
   ]
  },
  {
   "cell_type": "code",
   "execution_count": 50,
   "id": "18b32e49",
   "metadata": {},
   "outputs": [
    {
     "data": {
      "text/plain": [
       "PointList( A length 10 PointList called '5,1',\n",
       "           with 3 fields:\n",
       "\n",
       "           qx   (float64)\n",
       "           qy   (float64)\n",
       "           I    (float64)\n",
       ")"
      ]
     },
     "execution_count": 50,
     "metadata": {},
     "output_type": "execute_result"
    }
   ],
   "source": [
    "pla[5,1]"
   ]
  },
  {
   "cell_type": "code",
   "execution_count": 51,
   "id": "cc0c1023",
   "metadata": {},
   "outputs": [
    {
     "data": {
      "text/plain": [
       "array([(1., 1., 25.), (1., 1., 25.), (1., 1., 25.), (1., 1., 25.),\n",
       "       (1., 1., 25.), (1., 1., 25.), (1., 1., 25.), (1., 1., 25.),\n",
       "       (1., 1., 25.), (1., 1., 25.)],\n",
       "      dtype=[('qx', '<f8'), ('qy', '<f8'), ('I', '<f8')])"
      ]
     },
     "execution_count": 51,
     "metadata": {},
     "output_type": "execute_result"
    }
   ],
   "source": [
    "pla[5,1][...]"
   ]
  },
  {
   "cell_type": "code",
   "execution_count": 52,
   "id": "d7c9f103",
   "metadata": {},
   "outputs": [
    {
     "data": {
      "text/plain": [
       "PointList( A length 10 PointList called 'echidnas_r_us',\n",
       "           with 3 fields:\n",
       "\n",
       "           qx   (float64)\n",
       "           qy   (float64)\n",
       "           I    (float64)\n",
       ")"
      ]
     },
     "execution_count": 52,
     "metadata": {},
     "output_type": "execute_result"
    }
   ],
   "source": [
    "pla.get_pointlist(5,1,name='echidnas_r_us')"
   ]
  },
  {
   "cell_type": "code",
   "execution_count": 53,
   "id": "09158cc8",
   "metadata": {},
   "outputs": [
    {
     "data": {
      "text/plain": [
       "PointList( A length 10 PointList called '5,1',\n",
       "           with 3 fields:\n",
       "\n",
       "           qx   (float64)\n",
       "           qy   (float64)\n",
       "           I    (float64)\n",
       ")"
      ]
     },
     "execution_count": 53,
     "metadata": {},
     "output_type": "execute_result"
    }
   ],
   "source": [
    "pla[5,1]"
   ]
  },
  {
   "cell_type": "markdown",
   "id": "27d93106",
   "metadata": {},
   "source": [
    "## Calibration"
   ]
  },
  {
   "cell_type": "code",
   "execution_count": 72,
   "id": "647699fe",
   "metadata": {},
   "outputs": [
    {
     "data": {
      "text/plain": [
       "Calibration( A Calibration metadata instance called 'calibration', containing the following fields:\n",
       "\n",
       "             Q_pixel_size:    1\n",
       "             Q_pixel_units:   pixels\n",
       "             R_pixel_size:    1\n",
       "             R_pixel_units:   pixels\n",
       "             R_Nx:            10\n",
       "             R_Ny:            10\n",
       "             Q_Nx:            50\n",
       "             Q_Ny:            50\n",
       ")"
      ]
     },
     "execution_count": 72,
     "metadata": {},
     "output_type": "execute_result"
    }
   ],
   "source": [
    "cal = py4DSTEM.io.datastructure.Calibration(\n",
    "    (10,10,50,50)     # can optionally be initialized with a datacube shape\n",
    ")\n",
    "\n",
    "cal"
   ]
  },
  {
   "cell_type": "code",
   "execution_count": 73,
   "id": "39c8908c",
   "metadata": {},
   "outputs": [
    {
     "data": {
      "text/plain": [
       "Calibration( A Calibration metadata instance called 'calibration', containing the following fields:\n",
       "\n",
       "             Q_pixel_size:    0.1\n",
       "             Q_pixel_units:   nm^-1\n",
       "             R_pixel_size:    0.2\n",
       "             R_pixel_units:   A\n",
       "             R_Nx:            10\n",
       "             R_Ny:            10\n",
       "             Q_Nx:            50\n",
       "             Q_Ny:            50\n",
       ")"
      ]
     },
     "execution_count": 73,
     "metadata": {},
     "output_type": "execute_result"
    }
   ],
   "source": [
    "cal.set_Q_pixel_size(0.1)\n",
    "cal.set_Q_pixel_units('nm^-1')\n",
    "\n",
    "cal.set_R_pixel_size(0.2)\n",
    "cal.set_R_pixel_units('A')\n",
    "                      \n",
    "cal"
   ]
  },
  {
   "cell_type": "code",
   "execution_count": 76,
   "id": "4d1d54b3",
   "metadata": {},
   "outputs": [
    {
     "data": {
      "text/plain": [
       "Calibration( A Calibration metadata instance called 'calibration', containing the following fields:\n",
       "\n",
       "             Q_pixel_size:    0.1\n",
       "             Q_pixel_units:   nm^-1\n",
       "             R_pixel_size:    0.2\n",
       "             R_pixel_units:   A\n",
       "             R_Nx:            10\n",
       "             R_Ny:            10\n",
       "             Q_Nx:            50\n",
       "             Q_Ny:            50\n",
       "             origin:          3D-array\n",
       ")"
      ]
     },
     "execution_count": 76,
     "metadata": {},
     "output_type": "execute_result"
    }
   ],
   "source": [
    "origin = np.ones((10,10,2))*5.2\n",
    "cal.set_origin(origin)\n",
    "\n",
    "cal"
   ]
  },
  {
   "cell_type": "code",
   "execution_count": 77,
   "id": "baa3210b",
   "metadata": {},
   "outputs": [
    {
     "data": {
      "text/plain": [
       "array([[[5.2, 5.2],\n",
       "        [5.2, 5.2],\n",
       "        [5.2, 5.2],\n",
       "        [5.2, 5.2],\n",
       "        [5.2, 5.2],\n",
       "        [5.2, 5.2],\n",
       "        [5.2, 5.2],\n",
       "        [5.2, 5.2],\n",
       "        [5.2, 5.2],\n",
       "        [5.2, 5.2]],\n",
       "\n",
       "       [[5.2, 5.2],\n",
       "        [5.2, 5.2],\n",
       "        [5.2, 5.2],\n",
       "        [5.2, 5.2],\n",
       "        [5.2, 5.2],\n",
       "        [5.2, 5.2],\n",
       "        [5.2, 5.2],\n",
       "        [5.2, 5.2],\n",
       "        [5.2, 5.2],\n",
       "        [5.2, 5.2]],\n",
       "\n",
       "       [[5.2, 5.2],\n",
       "        [5.2, 5.2],\n",
       "        [5.2, 5.2],\n",
       "        [5.2, 5.2],\n",
       "        [5.2, 5.2],\n",
       "        [5.2, 5.2],\n",
       "        [5.2, 5.2],\n",
       "        [5.2, 5.2],\n",
       "        [5.2, 5.2],\n",
       "        [5.2, 5.2]],\n",
       "\n",
       "       [[5.2, 5.2],\n",
       "        [5.2, 5.2],\n",
       "        [5.2, 5.2],\n",
       "        [5.2, 5.2],\n",
       "        [5.2, 5.2],\n",
       "        [5.2, 5.2],\n",
       "        [5.2, 5.2],\n",
       "        [5.2, 5.2],\n",
       "        [5.2, 5.2],\n",
       "        [5.2, 5.2]],\n",
       "\n",
       "       [[5.2, 5.2],\n",
       "        [5.2, 5.2],\n",
       "        [5.2, 5.2],\n",
       "        [5.2, 5.2],\n",
       "        [5.2, 5.2],\n",
       "        [5.2, 5.2],\n",
       "        [5.2, 5.2],\n",
       "        [5.2, 5.2],\n",
       "        [5.2, 5.2],\n",
       "        [5.2, 5.2]],\n",
       "\n",
       "       [[5.2, 5.2],\n",
       "        [5.2, 5.2],\n",
       "        [5.2, 5.2],\n",
       "        [5.2, 5.2],\n",
       "        [5.2, 5.2],\n",
       "        [5.2, 5.2],\n",
       "        [5.2, 5.2],\n",
       "        [5.2, 5.2],\n",
       "        [5.2, 5.2],\n",
       "        [5.2, 5.2]],\n",
       "\n",
       "       [[5.2, 5.2],\n",
       "        [5.2, 5.2],\n",
       "        [5.2, 5.2],\n",
       "        [5.2, 5.2],\n",
       "        [5.2, 5.2],\n",
       "        [5.2, 5.2],\n",
       "        [5.2, 5.2],\n",
       "        [5.2, 5.2],\n",
       "        [5.2, 5.2],\n",
       "        [5.2, 5.2]],\n",
       "\n",
       "       [[5.2, 5.2],\n",
       "        [5.2, 5.2],\n",
       "        [5.2, 5.2],\n",
       "        [5.2, 5.2],\n",
       "        [5.2, 5.2],\n",
       "        [5.2, 5.2],\n",
       "        [5.2, 5.2],\n",
       "        [5.2, 5.2],\n",
       "        [5.2, 5.2],\n",
       "        [5.2, 5.2]],\n",
       "\n",
       "       [[5.2, 5.2],\n",
       "        [5.2, 5.2],\n",
       "        [5.2, 5.2],\n",
       "        [5.2, 5.2],\n",
       "        [5.2, 5.2],\n",
       "        [5.2, 5.2],\n",
       "        [5.2, 5.2],\n",
       "        [5.2, 5.2],\n",
       "        [5.2, 5.2],\n",
       "        [5.2, 5.2]],\n",
       "\n",
       "       [[5.2, 5.2],\n",
       "        [5.2, 5.2],\n",
       "        [5.2, 5.2],\n",
       "        [5.2, 5.2],\n",
       "        [5.2, 5.2],\n",
       "        [5.2, 5.2],\n",
       "        [5.2, 5.2],\n",
       "        [5.2, 5.2],\n",
       "        [5.2, 5.2],\n",
       "        [5.2, 5.2]]])"
      ]
     },
     "execution_count": 77,
     "metadata": {},
     "output_type": "execute_result"
    }
   ],
   "source": [
    "cal.get_origin()"
   ]
  },
  {
   "cell_type": "code",
   "execution_count": 67,
   "id": "b62daa74",
   "metadata": {},
   "outputs": [
    {
     "data": {
      "text/plain": [
       "(None, None, None)"
      ]
     },
     "execution_count": 67,
     "metadata": {},
     "output_type": "execute_result"
    }
   ],
   "source": [
    "cal.get_ellipse()"
   ]
  },
  {
   "cell_type": "code",
   "execution_count": 70,
   "id": "73c340aa",
   "metadata": {},
   "outputs": [],
   "source": [
    "cal.set_ellipse((1,1,0))"
   ]
  },
  {
   "cell_type": "code",
   "execution_count": 71,
   "id": "1cd3fb2c",
   "metadata": {},
   "outputs": [
    {
     "data": {
      "text/plain": [
       "(1, 1, 0)"
      ]
     },
     "execution_count": 71,
     "metadata": {},
     "output_type": "execute_result"
    }
   ],
   "source": [
    "cal.get_ellipse()"
   ]
  },
  {
   "cell_type": "code",
   "execution_count": null,
   "id": "306f06bf",
   "metadata": {},
   "outputs": [],
   "source": []
  }
 ],
 "metadata": {
  "kernelspec": {
   "display_name": "Python 3 (ipykernel)",
   "language": "python",
   "name": "python3"
  },
  "language_info": {
   "codemirror_mode": {
    "name": "ipython",
    "version": 3
   },
   "file_extension": ".py",
   "mimetype": "text/x-python",
   "name": "python",
   "nbconvert_exporter": "python",
   "pygments_lexer": "ipython3",
   "version": "3.8.13"
  }
 },
 "nbformat": 4,
 "nbformat_minor": 5
}
